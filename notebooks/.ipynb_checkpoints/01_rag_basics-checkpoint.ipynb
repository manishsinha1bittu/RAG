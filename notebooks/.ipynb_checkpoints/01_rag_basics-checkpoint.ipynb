{
 "cells": [
  {
   "cell_type": "markdown",
   "metadata": {},
   "source": [
    "# RAG Basics Tutorial\n",
    "\n",
    "This notebook provides a comprehensive introduction to Retrieval-Augmented Generation (RAG) systems and demonstrates our simple RAG implementation.\n",
    "\n",
    "## What is RAG?\n",
    "\n",
    "Retrieval-Augmented Generation (RAG) is a technique that combines:\n",
    "1. **Retrieval**: Finding relevant documents/knowledge from a knowledge base\n",
    "2. **Generation**: Using that retrieved information to generate accurate responses\n",
    "\n",
    "RAG helps overcome limitations of large language models by providing them with up-to-date, relevant information."
   ]
  },
  {
   "cell_type": "markdown",
   "metadata": {},
   "source": [
    "## Setup and Imports"
   ]
  },
  {
   "cell_type": "code",
   "execution_count": null,
   "metadata": {},
   "outputs": [],
   "source": [
    "import sys\n",
    "import os\n",
    "\n",
    "# Add src directory to path\n",
    "sys.path.append(os.path.join(os.path.dirname('.'), '..', 'src'))\n",
    "\n",
    "from simple_rag import SimpleRAG, SimpleRetriever, SimpleGenerator\n",
    "import json\n",
    "from typing import List, Dict, Any"
   ]
  },
  {
   "cell_type": "markdown",
   "metadata": {},
   "source": [
    "## 1. Understanding the Components\n",
    "\n",
    "Our RAG system consists of three main components:\n",
    "\n",
    "### 1.1 SimpleRetriever\n",
    "Handles document retrieval using TF-IDF inspired scoring."
   ]
  },
  {
   "cell_type": "code",
   "execution_count": null,
   "metadata": {},
   "outputs": [],
   "source": [
    "# Sample documents\n",
    "documents = [\n",
    "    \"Machine learning is a subset of artificial intelligence that enables computers to learn from data.\",\n",
    "    \"Natural language processing (NLP) helps computers understand, interpret, and generate human language.\",\n",
    "    \"Deep learning uses neural networks with multiple layers to process complex patterns in data.\",\n",
    "    \"Computer vision allows machines to interpret and understand visual information from images.\",\n",
    "    \"Robotics combines artificial intelligence with mechanical engineering to create autonomous systems.\"\n",
    "]\n",
    "\n",
    "# Create a retriever\n",
    "retriever = SimpleRetriever(documents)\n",
    "print(f\"Initialized retriever with {len(documents)} documents\")\n",
    "print(f\"Processed documents: {len(retriever.processed_docs)}\")"
   ]
  },
  {
   "cell_type": "markdown",
   "metadata": {},
   "source": [
    "### 1.2 Testing Document Retrieval"
   ]
  },
  {
   "cell_type": "code",
   "execution_count": null,
   "metadata": {},
   "outputs": [],
   "source": [
    "# Test retrieval with different queries\n",
    "test_queries = [\n",
    "    \"machine learning\",\n",
    "    \"natural language processing\",\n",
    "    \"deep learning\",\n",
    "    \"computer vision\",\n",
    "    \"robotics\"\n",
    "]\n",
    "\n",
    "for query in test_queries:\n",
    "    results = retriever.retrieve(query, top_k=2)\n",
    "    print(f\"\\nQuery: '{query}'\")\n",
    "    print(f\"Retrieved {len(results)} documents:\")\n",
    "    for i, doc in enumerate(results, 1):\n",
    "        print(f\"  {i}. {doc['text'][:80]}...\")"
   ]
  },
  {
   "cell_type": "markdown",
   "metadata": {},
   "source": [
    "### 1.3 SimpleGenerator\n",
    "Handles response generation using template-based approaches."
   ]
  },
  {
   "cell_type": "code",
   "execution_count": null,
   "metadata": {},
   "outputs": [],
   "source": [
    "# Create a generator\n",
    "generator = SimpleGenerator()\n",
    "print(\"Available generation styles:\")\n",
    "for style in generator.templates.keys():\n",
    "    print(f\"  - {style}\")\n",
    "\n",
    "# Test generation with different styles\n",
    "query = \"What is machine learning?\"\n",
    "context = \"Machine learning is a subset of artificial intelligence that enables computers to learn from data.\"\n",
    "\n",
    "for style in ['answer', 'summary', 'explanation']:\n",
    "    response = generator.generate(query, context, style)\n",
    "    print(f\"\\n{style.upper()} style:\")\n",
    "    print(response)\n",
    "    print(\"-\" * 50)"
   ]
  },
  {
   "cell_type": "markdown",
   "metadata": {},
   "source": [
    "## 2. Complete RAG System\n",
    "\n",
    "Now let's combine retrieval and generation into a complete RAG system."
   ]
  },
  {
   "cell_type": "code",
   "execution_count": null,
   "metadata": {},
   "outputs": [],
   "source": [
    "# Create the complete RAG system\n",
    "rag = SimpleRAG(documents)\n",
    "print(\"RAG system initialized successfully!\")\n",
    "print(f\"Retriever has {len(rag.retriever.documents)} documents\")\n",
    "print(f\"Generator has {len(rag.generator.templates)} templates\")\n",
    "\n",
    "# Test questions\n",
    "questions = [\n",
    "    \"What is machine learning?\",\n",
    "    \"How does natural language processing work?\",\n",
    "    \"Explain deep learning\",\n",
    "    \"What is computer vision used for?\",\n",
    "    \"Tell me about robotics\"\n",
    "]\n",
    "\n",
    "for question in questions:\n",
    "    print(f\"\\n{'='*60}\")\n",
    "    print(f\"Question: {question}\")\n",
    "    print(f\"{'='*60}\")\n",
    "    \n",
    "    result = rag.query(question, top_k=2)\n",
    "    \n",
    "    print(f\"\\nResponse:\")\n",
    "    print(result['response'])\n",
    "    \n",
    "    print(f\"\\nRetrieved Documents ({len(result['retrieved_docs'])}):\")\n",
    "    for i, doc in enumerate(result['retrieved_docs'], 1):\n",
    "        print(f\"  {i}. {doc['text']}\")\n",
    "    \n",
    "    print(f\"\\nContext used:\")\n",
    "    print(result['context'])"
   ]
  },
  {
   "cell_type": "markdown",
   "metadata": {},
   "source": [
    "## 3. Interactive RAG Demo\n",
    "\n",
    "Let's create an interactive demo where you can ask your own questions."
   ]
  },
  {
   "cell_type": "code",
   "execution_count": null,
   "metadata": {},
   "outputs": [],
   "source": [
    "def interactive_rag_demo():\n",
    "    \"\"\"Interactive RAG demo function.\"\"\"\n",
    "    print(\"\\n\ud83e\udd16 Interactive RAG Demo\")\n",
    "    print(\"Ask questions about AI, ML, NLP, Computer Vision, or Robotics!\")\n",
    "    print(\"Type 'quit' to exit\\n\")\n",
    "    \n",
    "    while True:\n",
    "        question = input(\"\\nYour question: \").strip()\n",
    "        \n",
    "        if question.lower() in ['quit', 'exit', 'q']:\n",
    "            print(\"Goodbye! \ud83d\udc4b\")\n",
    "            break\n",
    "        \n",
    "        if not question:\n",
    "            print(\"Please enter a question.\")\n",
    "            continue\n",
    "        \n",
    "        try:\n",
    "            result = rag.query(question, top_k=2)\n",
    "            \n",
    "            print(f\"\\n\ud83e\udd16 Answer:\")\n",
    "            print(result['response'])\n",
    "            \n",
    "            if result['retrieved_docs']:\n",
    "                print(f\"\\n\ud83d\udcda Sources ({len(result['retrieved_docs'])}):\")\n",
    "                for i, doc in enumerate(result['retrieved_docs'], 1):\n",
    "                    print(f\"  {i}. {doc['text']}\")\n",
    "            else:\n",
    "                print(\"\\n\u274c No relevant documents found.\")\n",
    "                \n",
    "        except Exception as e:\n",
    "            print(f\"\\n\u274c Error: {e}\")\n",
    "\n",
    "# Uncomment the line below to run the interactive demo\n",
    "# interactive_rag_demo()"
   ]
  },
  {
   "cell_type": "markdown",
   "metadata": {},
   "source": [
    "## 4. Summary and Next Steps\n",
    "\n",
    "In this tutorial, we've covered:\n",
    "\n",
    "\u2705 **RAG Fundamentals**: Understanding retrieval and generation\n",
    "\u2705 **Component Analysis**: Testing retriever and generator separately\n",
    "\u2705 **Complete Pipeline**: End-to-end RAG system demonstration\n",
    "\u2705 **Interactive Demo**: Hands-on experience with the system\n",
    "\n",
    "### Key Takeaways:\n",
    "1. **Retrieval** finds relevant documents using TF-IDF scoring\n",
    "2. **Generation** creates responses using retrieved context\n",
    "3. **RAG** combines both for accurate, contextual answers\n",
    "\n",
    "### Next Steps:\n",
    "- Try the interactive demo (uncomment the function call above)\n",
    "- Experiment with different document sets\n",
    "- Implement more sophisticated retrieval methods (embeddings, semantic search)\n",
    "- Integrate with actual LLMs for better generation\n",
    "- Add document preprocessing and chunking\n",
    "\n",
    "### Files to Explore:\n",
    "- `src/simple_rag.py`: Core RAG implementation\n",
    "- `examples/basic_rag_example.py`: Basic usage example\n",
    "- `examples/qa_system.py`: Interactive QA system\n",
    "- `tests/test_rag.py`: Unit tests"
   ]
  },
  {
   "cell_type": "code",
   "execution_count": null,
   "metadata": {},
   "outputs": [],
   "source": [
    "print(\"\ud83c\udf89 RAG Basics Tutorial Complete!\")\n",
    "print(\"\\nYou now have a working understanding of RAG systems.\")\n",
    "print(\"Feel free to experiment with the code above and explore the other examples!\")"
   ]
  }
 ],
 "metadata": {
  "kernelspec": {
   "display_name": "Python 3",
   "language": "python",
   "name": "python3"
  },
  "language_info": {
   "codemirror_mode": {
    "name": "ipython",
    "version": 3
   },
   "file_extension": ".py",
   "mimetype": "text/x-python",
   "name": "python",
   "nbconvert_exporter": "python",
   "pygments_lexer": "ipython3",
   "version": "3.12.7"
  }
 },
 "nbformat": 4,
 "nbformat_minor": 4
}